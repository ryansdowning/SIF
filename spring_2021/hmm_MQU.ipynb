{
 "cells": [
  {
   "cell_type": "markdown",
   "metadata": {},
   "source": [
    "\n",
    "<h2 id=\"Hidden-Markov-Model-Filter-for-Portfolio-Allocation-Methods\">Hidden Markov Model Filter for Portfolio Allocation Methods<a class=\"anchor-link\" href=\"#Hidden-Markov-Model-Filter-for-Portfolio-Allocation-Methods\">¶</a></h2><h3 id=\"Author:-Steven-Struglia\">Author: Steven Struglia<a class=\"anchor-link\" href=\"#Author:-Steven-Struglia\">¶</a></h3><p>Suppose that a Hidden Markov Model (HMM) has $N$ distinct hidden states denoted by $S_{1},...,S_{N}$ and M distinct observation symbols per state denoted by $v_{1},...,v_{m}$</p>\n",
    "<p>The state at time $t: q_{t} \\in \\{S_{1},...,S_{n}\\} $</p>\n",
    "<p>The output at time $t: O_{t} \\in \\{v_{1},..,v_{M}\\}$</p>\n",
    "<p>The transition probability matrix: $A = [a_{ij}]_{i,j=1}^{N}$, where</p>\n",
    "<p>$a_{ij} = P[q_{t+1} = S_{j} | q_{t} = S_{i}] \\geq 0$</p>\n",
    "<p>The emission probability matrix: $B = [b_{i}(k)]_{i=1, k=1}^{N,M}$, where</p>\n",
    "<p>$b_{i}(k) = P[O_{t} = v_{k} | q_{t} = S_{i}], 1 \\leq j \\leq N, 1 \\leq k \\leq M $</p>\n",
    "<p>The initial state distribution $\\pi = [\\pi_{i}]_{i=1}^{M}$, where $\\pi_{i} = P[q_{1} = S_{i}], 1 \\leq i \\leq N$</p>\n",
    "<p>Since a multinomial HMM can be completely determined by three probability measures A, B, and $\\pi$,\n",
    "for convenience, we use the compact notation $\\lambda = (A,B,\\pi)$</p>\n",
    "<p>X: states, y: possible observations, a: transition probabilities, b: emission probabilities</p>\n"
   ]
  },
  {
   "cell_type": "code",
   "execution_count": 2,
   "metadata": {},
   "outputs": [],
   "source": [
    "import numpy as np\n",
    "import pandas as pd\n",
    "import datetime\n",
    "import matplotlib.pyplot as plt\n",
    "import os\n",
    "os.chdir('..')\n",
    "from sifinfra import sif_utils as su\n",
    "from pypfopt.efficient_frontier import EfficientFrontier\n",
    "from pypfopt import risk_models\n",
    "from matplotlib.ticker import FuncFormatter\n",
    "import warnings\n",
    "warnings.filterwarnings('ignore')"
   ]
  },
  {
   "cell_type": "markdown",
   "metadata": {},
   "source": [
    "\n",
    "<h4 id=\"Grabbing-data-and-features-to-be-used-by-the-HMM-for-training\">Grabbing data and features to be used by the HMM for training<a class=\"anchor-link\" href=\"#Grabbing-data-and-features-to-be-used-by-the-HMM-for-training\">¶</a></h4>\n"
   ]
  },
  {
   "cell_type": "code",
   "execution_count": 3,
   "metadata": {},
   "outputs": [
    {
     "name": "stderr",
     "output_type": "stream",
     "text": [
      "/Users/stevenstruglia/sif/sif/sifinfra/sif_utils.py:321: DeprecationWarning: execute_query is a deprecated function. sifinfra.sif_utils is a deprecated module and will be removed in a future version of sif. Please remove calls to this module and replace them with alternatives from siftools.data_utils\n",
      "  cols, response = execute_query(query, params=query_params)\n",
      "/Users/stevenstruglia/sif/sif/sifinfra/sif_utils.py:253: DeprecationWarning: execute_query is a deprecated function. sifinfra.sif_utils is a deprecated module and will be removed in a future version of sif. Please remove calls to this module and replace them with alternatives from siftools.data_utils\n",
      "  cols, response = execute_query(query, params=query_params)\n",
      "/Users/stevenstruglia/sif/sif/sifinfra/sif_utils.py:253: DeprecationWarning: execute_query is a deprecated function. sifinfra.sif_utils is a deprecated module and will be removed in a future version of sif. Please remove calls to this module and replace them with alternatives from siftools.data_utils\n",
      "  cols, response = execute_query(query, params=query_params)\n"
     ]
    },
    {
     "data": {
      "text/plain": [
       "(252, 222)"
      ]
     },
     "execution_count": 3,
     "metadata": {},
     "output_type": "execute_result"
    }
   ],
   "source": [
    "start_date = datetime.datetime(2019, 1, 1)\n",
    "end_date = datetime.datetime(2020, 1, 1)\n",
    "top_n = 200\n",
    "tickers = sorted(su.get_universe_tickers(top_n, start_date, end_date))\n",
    "price_attrs = ['date','close', 'open', 'high', 'low']\n",
    "data = su.get_equity_data(tickers, start_date, end_date, price_attrs)\n",
    "data['close'].shape"
   ]
  },
  {
   "cell_type": "markdown",
   "metadata": {},
   "source": [
    "\n",
    "<h4 id=\"Training-function-for-HMM-to-compute-states-and-store-in-pkl-file\">Training function for HMM to compute states and store in pkl file<a class=\"anchor-link\" href=\"#Training-function-for-HMM-to-compute-states-and-store-in-pkl-file\">¶</a></h4><p>Compute features to feed into HMM, train and group HMM state parameters individually based on mean and variance obtained from K-Means, store .pkl for HMM</p>\n"
   ]
  },
  {
   "cell_type": "code",
   "execution_count": 4,
   "metadata": {},
   "outputs": [
    {
     "name": "stderr",
     "output_type": "stream",
     "text": [
      "/usr/local/lib/python3.8/site-packages/ipykernel/ipkernel.py:287: DeprecationWarning: `should_run_async` will not call `transform_cell` automatically in the future. Please pass the result to `transformed_cell` argument and any exception that happen during thetransform in `preprocessing_exc_tuple` in IPython 7.17 and above.\n",
      "  and should_run_async(code)\n"
     ]
    }
   ],
   "source": [
    "import time\n",
    "import pickle\n",
    "from hmmlearn.hmm import GMMHMM\n",
    "from sklearn.mixture import GaussianMixture as GMM\n",
    "from sklearn.cluster import KMeans\n",
    "\n",
    "def compute_states(data,ticker):\n",
    "    price_attrs = ['open', 'close', 'high', 'low']\n",
    "    temp_data = pd.DataFrame()\n",
    "    for a in price_attrs:\n",
    "        temp_data[a] = data[a][ticker].values\n",
    "    X = pd.DataFrame()\n",
    "    X['date'] = temp_data['close'].index\n",
    "    for i in ['open', 'high', 'low', 'close']:\n",
    "        X[i] = temp_data[i].values.astype(float)\n",
    "    \n",
    "    X['CO'] = (X['close'] - X['open'])/X['open']\n",
    "    X['HO'] = (X['high'] - X['open'])/X['open']\n",
    "    X['OL'] = (X['open'] - X['low'])/X['open']\n",
    "    X.drop(['open', 'high', 'low', 'close'], axis=1, inplace=True)\n",
    "    \n",
    "    n_days = X.shape\n",
    "\n",
    "    n = 80\n",
    "    X_train = X.head(int(len(X)*(n/100)))\n",
    "    X_test = X.tail(int(len(X)*((100-n)/100)))\n",
    "\n",
    "    n_states = 4\n",
    "\n",
    "    X_clusters = KMeans(n_clusters=n_states)\n",
    "    fitted_X = X_clusters.fit(np.array(X_train['CO']).reshape(-1,1))\n",
    "    means = fitted_X.cluster_centers_\n",
    "    X_train['cluster'] = fitted_X.labels_\n",
    "\n",
    "    cluster_arrays = [np.array(X_train[X_train['cluster'] == i]['CO']) for i in list(set(fitted_X.labels_))]\n",
    "    total_cluster = float(len(X_train)) \n",
    "    total_GMM_params = []\n",
    "\n",
    "    for cluster in cluster_arrays:\n",
    "        GMM_params = []\n",
    "        covar = np.cov(cluster.T)\n",
    "        GMM_params.append(covar)\n",
    "        total_GMM_params.append(GMM_params)\n",
    "\n",
    "    for i in range(len(means)):\n",
    "        total_GMM_params[i].append(means[i])\n",
    "\n",
    "\n",
    "    hmm = GMMHMM(n_components=n_states, covariance_type=\"full\", n_iter=1000, algorithm='map')\n",
    "    hmm.gmms_ = [GMM(n_components = n_states)] * n_states\n",
    "\n",
    "    for i, GMM_i in enumerate(hmm.gmms_):\n",
    "        GMM_i.covars_ = np.array(total_GMM_params[i][0])\n",
    "        GMM_i.means_ = np.array(total_GMM_params[i][1])\n",
    "        print(\"GMM {}:\".format(i+1),\"Variance = {}\".format(GMM_i.covars_), \"Mean = {}\".format(GMM_i.means_))\n",
    "\n",
    "    hmm.fit(X_train[['CO', 'HO', 'OL']])\n",
    "    total_latent_states = hmm.predict(X[['CO', 'HO', 'OL']])\n",
    "    latent_states_sequence = hmm.predict(X_test[['CO', 'HO', 'OL']])\n",
    "    hmm.fit(X_test[['CO', 'HO', 'OL']])\n",
    "    \n",
    "    \n",
    "#     filename = 'sif/sifinsights/HMM/{}_HMM.pkl'.format(ticker)\n",
    "#     with open(filename, 'wb') as handle:\n",
    "#         pickle.dump(hmm, handle, protocol=pickle.HIGHEST_PROTOCOL)\n",
    "        \n",
    "    return total_latent_states, latent_states_sequence, hmm"
   ]
  },
  {
   "cell_type": "markdown",
   "metadata": {},
   "source": [
    "\n",
    "<h4 id=\"Example-run-of-compute_states-run-on-the-'AMZN'-ticker\">Example run of compute_states run on the 'AMZN' ticker<a class=\"anchor-link\" href=\"#Example-run-of-compute_states-run-on-the-'AMZN'-ticker\">¶</a></h4>\n"
   ]
  },
  {
   "cell_type": "code",
   "execution_count": 5,
   "metadata": {},
   "outputs": [
    {
     "name": "stderr",
     "output_type": "stream",
     "text": [
      "/usr/local/lib/python3.8/site-packages/ipykernel/ipkernel.py:287: DeprecationWarning: `should_run_async` will not call `transform_cell` automatically in the future. Please pass the result to `transformed_cell` argument and any exception that happen during thetransform in `preprocessing_exc_tuple` in IPython 7.17 and above.\n",
      "  and should_run_async(code)\n"
     ]
    },
    {
     "name": "stdout",
     "output_type": "stream",
     "text": [
      "GMM 1: Variance = 1.4958138993668075e-05 Mean = [0.00403956]\n",
      "GMM 2: Variance = 1.1965836741201984e-05 Mean = [-0.00721774]\n",
      "GMM 3: Variance = 6.227753883541853e-05 Mean = [0.02102517]\n",
      "GMM 4: Variance = 4.4894673721338586e-05 Mean = [-0.02244961]\n"
     ]
    },
    {
     "name": "stderr",
     "output_type": "stream",
     "text": [
      "Even though the 'startprob_' attribute is set, it will be overwritten during initialization because 'init_params' contains 's'\n",
      "Even though the 'transmat_' attribute is set, it will be overwritten during initialization because 'init_params' contains 't'\n",
      "Even though the 'weights_' attribute is set, it will be overwritten during initialization because 'init_params' contains 'w'\n",
      "Even though the 'means_' attribute is set, it will be overwritten during initialization because 'init_params' contains 'm'\n",
      "Even though the 'covars_' attribute is set, it will be overwritten during initialization because 'init_params' contains 'c'\n"
     ]
    },
    {
     "data": {
      "text/plain": [
       "(array([3, 1, 3, 3, 1, 0, 0, 1, 1, 3, 1, 0, 2, 1, 1, 0, 2, 1, 1, 3, 3, 1,\n",
       "        1, 0, 1, 1, 0, 2, 0, 2, 2, 2, 0, 2, 0, 2, 2, 0, 0, 2, 0, 0, 2, 2,\n",
       "        1, 0, 0, 2, 2, 2, 0, 0, 1, 0, 0, 1, 0, 2, 1, 0, 2, 2, 2, 2, 2, 2,\n",
       "        0, 2, 0, 2, 2, 0, 0, 2, 2, 0, 0, 2, 2, 0, 2, 0, 2, 1, 0, 0, 2, 2,\n",
       "        1, 1, 1, 1, 3, 3, 1, 0, 2, 2, 2, 2, 2, 2, 2, 2, 1, 0, 1, 3, 3, 3,\n",
       "        2, 2, 2, 2, 2, 2, 2, 2, 2, 0, 2, 2, 2, 2, 2, 0, 2, 0, 0, 0, 0, 2,\n",
       "        2, 0, 2, 2, 0, 2, 0, 0, 0, 2, 0, 1, 0, 1, 1, 1, 1, 1, 0, 0, 2, 2,\n",
       "        0, 2, 2, 2, 2, 2, 2, 2, 1, 0, 2, 0, 2, 2, 0, 2, 0, 2, 2, 0, 0, 2,\n",
       "        2, 2, 0, 0, 2, 1, 0, 1, 0, 2, 2, 0, 2, 2, 0, 0, 2, 2, 2, 2, 2, 0,\n",
       "        0, 2, 2, 1, 0, 2, 0, 0, 3, 3, 2, 0, 2, 2, 2, 2, 2, 2, 0, 2, 2, 2,\n",
       "        2, 2, 0, 2, 2, 2, 2, 0, 0, 0, 2, 1, 0, 2, 2, 0, 2, 2, 2, 0, 2, 0,\n",
       "        2, 2, 0, 2, 2, 0, 3, 1, 1, 0]),\n",
       " array([3, 2, 0, 0, 3, 3, 2, 0, 2, 2, 2, 2, 2, 2, 0, 2, 2, 2, 2, 2, 0, 2,\n",
       "        2, 2, 2, 0, 0, 0, 2, 1, 0, 2, 2, 0, 2, 2, 2, 0, 2, 0, 2, 2, 0, 2,\n",
       "        2, 0, 3, 1, 1, 0]),\n",
       " GMMHMM(algorithm='map', covariance_type='full',\n",
       "        covars_prior=array([[[[0., 0., 0.],\n",
       "          [0., 0., 0.],\n",
       "          [0., 0., 0.]]],\n",
       " \n",
       " \n",
       "        [[[0., 0., 0.],\n",
       "          [0., 0., 0.],\n",
       "          [0., 0., 0.]]],\n",
       " \n",
       " \n",
       "        [[[0., 0., 0.],\n",
       "          [0., 0., 0.],\n",
       "          [0., 0., 0.]]],\n",
       " \n",
       " \n",
       "        [[[0., 0., 0.],\n",
       "          [0., 0., 0.],\n",
       "          [0., 0., 0.]]]]),\n",
       "        covars_weight=array([[-5.],\n",
       "        [-5.],\n",
       "        [-5.],\n",
       "        [-5.]]),\n",
       "        means_prior=array([[[0., 0., 0.]],\n",
       " \n",
       "        [[0., 0., 0.]],\n",
       " \n",
       "        [[0., 0., 0.]],\n",
       " \n",
       "        [[0., 0., 0.]]]),\n",
       "        means_weight=array([[0.],\n",
       "        [0.],\n",
       "        [0.],\n",
       "        [0.]]),\n",
       "        n_components=4, n_iter=1000,\n",
       "        weights_prior=array([[1.],\n",
       "        [1.],\n",
       "        [1.],\n",
       "        [1.]])))"
      ]
     },
     "execution_count": 5,
     "metadata": {},
     "output_type": "execute_result"
    }
   ],
   "source": [
    "compute_states(data,'AMZN')"
   ]
  },
  {
   "cell_type": "markdown",
   "metadata": {},
   "source": [
    "\n",
    "<h4 id=\"Compute-trained-HMM-state-table-to-analyze-state-behavior\">Compute trained HMM state table to analyze state behavior<a class=\"anchor-link\" href=\"#Compute-trained-HMM-state-table-to-analyze-state-behavior\">¶</a></h4>\n"
   ]
  },
  {
   "cell_type": "code",
   "execution_count": 6,
   "metadata": {},
   "outputs": [
    {
     "name": "stderr",
     "output_type": "stream",
     "text": [
      "/usr/local/lib/python3.8/site-packages/ipykernel/ipkernel.py:287: DeprecationWarning: `should_run_async` will not call `transform_cell` automatically in the future. Please pass the result to `transformed_cell` argument and any exception that happen during thetransform in `preprocessing_exc_tuple` in IPython 7.17 and above.\n",
      "  and should_run_async(code)\n"
     ]
    }
   ],
   "source": [
    "%%capture\n",
    "train_state_table = pd.DataFrame()\n",
    "for ticker in tickers:\n",
    "    try:\n",
    "        tls, lss, _ = compute_states(data,ticker);\n",
    "        train_state_table[ticker] = tls\n",
    "    except:\n",
    "        pass"
   ]
  },
  {
   "cell_type": "code",
   "execution_count": 7,
   "metadata": {},
   "outputs": [
    {
     "name": "stderr",
     "output_type": "stream",
     "text": [
      "/usr/local/lib/python3.8/site-packages/ipykernel/ipkernel.py:287: DeprecationWarning: `should_run_async` will not call `transform_cell` automatically in the future. Please pass the result to `transformed_cell` argument and any exception that happen during thetransform in `preprocessing_exc_tuple` in IPython 7.17 and above.\n",
      "  and should_run_async(code)\n"
     ]
    },
    {
     "data": {
      "text/html": [
       "<div>\n",
       "<style scoped>\n",
       "    .dataframe tbody tr th:only-of-type {\n",
       "        vertical-align: middle;\n",
       "    }\n",
       "\n",
       "    .dataframe tbody tr th {\n",
       "        vertical-align: top;\n",
       "    }\n",
       "\n",
       "    .dataframe thead th {\n",
       "        text-align: right;\n",
       "    }\n",
       "</style>\n",
       "<table border=\"1\" class=\"dataframe\">\n",
       "  <thead>\n",
       "    <tr style=\"text-align: right;\">\n",
       "      <th></th>\n",
       "      <th>AAPL</th>\n",
       "      <th>ABB</th>\n",
       "      <th>ABBV</th>\n",
       "      <th>ABT</th>\n",
       "      <th>ACN</th>\n",
       "      <th>ADBE</th>\n",
       "      <th>ADI</th>\n",
       "      <th>ADP</th>\n",
       "      <th>AEP</th>\n",
       "      <th>AFL</th>\n",
       "      <th>...</th>\n",
       "      <th>VMW</th>\n",
       "      <th>VRTX</th>\n",
       "      <th>VZ</th>\n",
       "      <th>WBA</th>\n",
       "      <th>WDAY</th>\n",
       "      <th>WFC</th>\n",
       "      <th>WM</th>\n",
       "      <th>WMT</th>\n",
       "      <th>XOM</th>\n",
       "      <th>ZTS</th>\n",
       "    </tr>\n",
       "  </thead>\n",
       "  <tbody>\n",
       "    <tr>\n",
       "      <th>0</th>\n",
       "      <td>2</td>\n",
       "      <td>0</td>\n",
       "      <td>2</td>\n",
       "      <td>2</td>\n",
       "      <td>3</td>\n",
       "      <td>2</td>\n",
       "      <td>3</td>\n",
       "      <td>2</td>\n",
       "      <td>1</td>\n",
       "      <td>1</td>\n",
       "      <td>...</td>\n",
       "      <td>0</td>\n",
       "      <td>0</td>\n",
       "      <td>3</td>\n",
       "      <td>2</td>\n",
       "      <td>2</td>\n",
       "      <td>0</td>\n",
       "      <td>0</td>\n",
       "      <td>3</td>\n",
       "      <td>2</td>\n",
       "      <td>1</td>\n",
       "    </tr>\n",
       "    <tr>\n",
       "      <th>1</th>\n",
       "      <td>3</td>\n",
       "      <td>3</td>\n",
       "      <td>2</td>\n",
       "      <td>2</td>\n",
       "      <td>2</td>\n",
       "      <td>0</td>\n",
       "      <td>2</td>\n",
       "      <td>0</td>\n",
       "      <td>1</td>\n",
       "      <td>2</td>\n",
       "      <td>...</td>\n",
       "      <td>3</td>\n",
       "      <td>1</td>\n",
       "      <td>1</td>\n",
       "      <td>1</td>\n",
       "      <td>0</td>\n",
       "      <td>1</td>\n",
       "      <td>1</td>\n",
       "      <td>2</td>\n",
       "      <td>3</td>\n",
       "      <td>3</td>\n",
       "    </tr>\n",
       "    <tr>\n",
       "      <th>2</th>\n",
       "      <td>0</td>\n",
       "      <td>0</td>\n",
       "      <td>3</td>\n",
       "      <td>0</td>\n",
       "      <td>3</td>\n",
       "      <td>2</td>\n",
       "      <td>3</td>\n",
       "      <td>2</td>\n",
       "      <td>3</td>\n",
       "      <td>3</td>\n",
       "      <td>...</td>\n",
       "      <td>0</td>\n",
       "      <td>0</td>\n",
       "      <td>1</td>\n",
       "      <td>2</td>\n",
       "      <td>2</td>\n",
       "      <td>0</td>\n",
       "      <td>2</td>\n",
       "      <td>0</td>\n",
       "      <td>2</td>\n",
       "      <td>0</td>\n",
       "    </tr>\n",
       "    <tr>\n",
       "      <th>3</th>\n",
       "      <td>0</td>\n",
       "      <td>0</td>\n",
       "      <td>0</td>\n",
       "      <td>0</td>\n",
       "      <td>2</td>\n",
       "      <td>3</td>\n",
       "      <td>3</td>\n",
       "      <td>0</td>\n",
       "      <td>0</td>\n",
       "      <td>1</td>\n",
       "      <td>...</td>\n",
       "      <td>0</td>\n",
       "      <td>2</td>\n",
       "      <td>1</td>\n",
       "      <td>0</td>\n",
       "      <td>2</td>\n",
       "      <td>1</td>\n",
       "      <td>2</td>\n",
       "      <td>3</td>\n",
       "      <td>2</td>\n",
       "      <td>0</td>\n",
       "    </tr>\n",
       "    <tr>\n",
       "      <th>4</th>\n",
       "      <td>0</td>\n",
       "      <td>3</td>\n",
       "      <td>0</td>\n",
       "      <td>2</td>\n",
       "      <td>2</td>\n",
       "      <td>3</td>\n",
       "      <td>3</td>\n",
       "      <td>2</td>\n",
       "      <td>3</td>\n",
       "      <td>2</td>\n",
       "      <td>...</td>\n",
       "      <td>1</td>\n",
       "      <td>2</td>\n",
       "      <td>1</td>\n",
       "      <td>0</td>\n",
       "      <td>2</td>\n",
       "      <td>2</td>\n",
       "      <td>2</td>\n",
       "      <td>1</td>\n",
       "      <td>0</td>\n",
       "      <td>2</td>\n",
       "    </tr>\n",
       "    <tr>\n",
       "      <th>5</th>\n",
       "      <td>0</td>\n",
       "      <td>3</td>\n",
       "      <td>2</td>\n",
       "      <td>0</td>\n",
       "      <td>3</td>\n",
       "      <td>3</td>\n",
       "      <td>3</td>\n",
       "      <td>2</td>\n",
       "      <td>1</td>\n",
       "      <td>3</td>\n",
       "      <td>...</td>\n",
       "      <td>2</td>\n",
       "      <td>2</td>\n",
       "      <td>3</td>\n",
       "      <td>0</td>\n",
       "      <td>3</td>\n",
       "      <td>2</td>\n",
       "      <td>1</td>\n",
       "      <td>1</td>\n",
       "      <td>0</td>\n",
       "      <td>1</td>\n",
       "    </tr>\n",
       "    <tr>\n",
       "      <th>6</th>\n",
       "      <td>0</td>\n",
       "      <td>0</td>\n",
       "      <td>3</td>\n",
       "      <td>0</td>\n",
       "      <td>3</td>\n",
       "      <td>2</td>\n",
       "      <td>0</td>\n",
       "      <td>1</td>\n",
       "      <td>3</td>\n",
       "      <td>0</td>\n",
       "      <td>...</td>\n",
       "      <td>1</td>\n",
       "      <td>2</td>\n",
       "      <td>2</td>\n",
       "      <td>0</td>\n",
       "      <td>1</td>\n",
       "      <td>0</td>\n",
       "      <td>0</td>\n",
       "      <td>3</td>\n",
       "      <td>0</td>\n",
       "      <td>1</td>\n",
       "    </tr>\n",
       "    <tr>\n",
       "      <th>7</th>\n",
       "      <td>1</td>\n",
       "      <td>0</td>\n",
       "      <td>1</td>\n",
       "      <td>0</td>\n",
       "      <td>3</td>\n",
       "      <td>3</td>\n",
       "      <td>3</td>\n",
       "      <td>3</td>\n",
       "      <td>2</td>\n",
       "      <td>3</td>\n",
       "      <td>...</td>\n",
       "      <td>1</td>\n",
       "      <td>2</td>\n",
       "      <td>2</td>\n",
       "      <td>1</td>\n",
       "      <td>1</td>\n",
       "      <td>0</td>\n",
       "      <td>0</td>\n",
       "      <td>0</td>\n",
       "      <td>0</td>\n",
       "      <td>1</td>\n",
       "    </tr>\n",
       "    <tr>\n",
       "      <th>8</th>\n",
       "      <td>1</td>\n",
       "      <td>0</td>\n",
       "      <td>2</td>\n",
       "      <td>1</td>\n",
       "      <td>1</td>\n",
       "      <td>3</td>\n",
       "      <td>1</td>\n",
       "      <td>3</td>\n",
       "      <td>0</td>\n",
       "      <td>0</td>\n",
       "      <td>...</td>\n",
       "      <td>3</td>\n",
       "      <td>1</td>\n",
       "      <td>0</td>\n",
       "      <td>1</td>\n",
       "      <td>3</td>\n",
       "      <td>0</td>\n",
       "      <td>3</td>\n",
       "      <td>0</td>\n",
       "      <td>1</td>\n",
       "      <td>1</td>\n",
       "    </tr>\n",
       "    <tr>\n",
       "      <th>9</th>\n",
       "      <td>2</td>\n",
       "      <td>3</td>\n",
       "      <td>1</td>\n",
       "      <td>0</td>\n",
       "      <td>1</td>\n",
       "      <td>2</td>\n",
       "      <td>0</td>\n",
       "      <td>1</td>\n",
       "      <td>3</td>\n",
       "      <td>0</td>\n",
       "      <td>...</td>\n",
       "      <td>0</td>\n",
       "      <td>2</td>\n",
       "      <td>2</td>\n",
       "      <td>0</td>\n",
       "      <td>1</td>\n",
       "      <td>2</td>\n",
       "      <td>0</td>\n",
       "      <td>0</td>\n",
       "      <td>3</td>\n",
       "      <td>1</td>\n",
       "    </tr>\n",
       "    <tr>\n",
       "      <th>10</th>\n",
       "      <td>2</td>\n",
       "      <td>0</td>\n",
       "      <td>1</td>\n",
       "      <td>1</td>\n",
       "      <td>0</td>\n",
       "      <td>3</td>\n",
       "      <td>1</td>\n",
       "      <td>3</td>\n",
       "      <td>3</td>\n",
       "      <td>3</td>\n",
       "      <td>...</td>\n",
       "      <td>3</td>\n",
       "      <td>1</td>\n",
       "      <td>3</td>\n",
       "      <td>0</td>\n",
       "      <td>1</td>\n",
       "      <td>0</td>\n",
       "      <td>1</td>\n",
       "      <td>0</td>\n",
       "      <td>2</td>\n",
       "      <td>3</td>\n",
       "    </tr>\n",
       "    <tr>\n",
       "      <th>11</th>\n",
       "      <td>2</td>\n",
       "      <td>0</td>\n",
       "      <td>3</td>\n",
       "      <td>0</td>\n",
       "      <td>3</td>\n",
       "      <td>2</td>\n",
       "      <td>3</td>\n",
       "      <td>3</td>\n",
       "      <td>3</td>\n",
       "      <td>0</td>\n",
       "      <td>...</td>\n",
       "      <td>1</td>\n",
       "      <td>0</td>\n",
       "      <td>3</td>\n",
       "      <td>0</td>\n",
       "      <td>2</td>\n",
       "      <td>0</td>\n",
       "      <td>0</td>\n",
       "      <td>0</td>\n",
       "      <td>2</td>\n",
       "      <td>0</td>\n",
       "    </tr>\n",
       "    <tr>\n",
       "      <th>12</th>\n",
       "      <td>1</td>\n",
       "      <td>0</td>\n",
       "      <td>3</td>\n",
       "      <td>0</td>\n",
       "      <td>2</td>\n",
       "      <td>3</td>\n",
       "      <td>3</td>\n",
       "      <td>1</td>\n",
       "      <td>2</td>\n",
       "      <td>3</td>\n",
       "      <td>...</td>\n",
       "      <td>2</td>\n",
       "      <td>2</td>\n",
       "      <td>0</td>\n",
       "      <td>0</td>\n",
       "      <td>2</td>\n",
       "      <td>0</td>\n",
       "      <td>2</td>\n",
       "      <td>0</td>\n",
       "      <td>0</td>\n",
       "      <td>2</td>\n",
       "    </tr>\n",
       "    <tr>\n",
       "      <th>13</th>\n",
       "      <td>3</td>\n",
       "      <td>0</td>\n",
       "      <td>1</td>\n",
       "      <td>0</td>\n",
       "      <td>2</td>\n",
       "      <td>3</td>\n",
       "      <td>2</td>\n",
       "      <td>1</td>\n",
       "      <td>0</td>\n",
       "      <td>1</td>\n",
       "      <td>...</td>\n",
       "      <td>2</td>\n",
       "      <td>1</td>\n",
       "      <td>3</td>\n",
       "      <td>1</td>\n",
       "      <td>2</td>\n",
       "      <td>1</td>\n",
       "      <td>2</td>\n",
       "      <td>3</td>\n",
       "      <td>3</td>\n",
       "      <td>1</td>\n",
       "    </tr>\n",
       "    <tr>\n",
       "      <th>14</th>\n",
       "      <td>0</td>\n",
       "      <td>3</td>\n",
       "      <td>1</td>\n",
       "      <td>3</td>\n",
       "      <td>2</td>\n",
       "      <td>3</td>\n",
       "      <td>2</td>\n",
       "      <td>1</td>\n",
       "      <td>3</td>\n",
       "      <td>2</td>\n",
       "      <td>...</td>\n",
       "      <td>2</td>\n",
       "      <td>3</td>\n",
       "      <td>2</td>\n",
       "      <td>1</td>\n",
       "      <td>2</td>\n",
       "      <td>2</td>\n",
       "      <td>3</td>\n",
       "      <td>1</td>\n",
       "      <td>3</td>\n",
       "      <td>3</td>\n",
       "    </tr>\n",
       "    <tr>\n",
       "      <th>15</th>\n",
       "      <td>3</td>\n",
       "      <td>3</td>\n",
       "      <td>2</td>\n",
       "      <td>3</td>\n",
       "      <td>1</td>\n",
       "      <td>0</td>\n",
       "      <td>3</td>\n",
       "      <td>3</td>\n",
       "      <td>0</td>\n",
       "      <td>3</td>\n",
       "      <td>...</td>\n",
       "      <td>3</td>\n",
       "      <td>1</td>\n",
       "      <td>3</td>\n",
       "      <td>1</td>\n",
       "      <td>3</td>\n",
       "      <td>0</td>\n",
       "      <td>3</td>\n",
       "      <td>1</td>\n",
       "      <td>2</td>\n",
       "      <td>2</td>\n",
       "    </tr>\n",
       "    <tr>\n",
       "      <th>16</th>\n",
       "      <td>0</td>\n",
       "      <td>0</td>\n",
       "      <td>2</td>\n",
       "      <td>1</td>\n",
       "      <td>1</td>\n",
       "      <td>1</td>\n",
       "      <td>0</td>\n",
       "      <td>3</td>\n",
       "      <td>1</td>\n",
       "      <td>3</td>\n",
       "      <td>...</td>\n",
       "      <td>2</td>\n",
       "      <td>2</td>\n",
       "      <td>3</td>\n",
       "      <td>0</td>\n",
       "      <td>1</td>\n",
       "      <td>1</td>\n",
       "      <td>3</td>\n",
       "      <td>1</td>\n",
       "      <td>3</td>\n",
       "      <td>1</td>\n",
       "    </tr>\n",
       "    <tr>\n",
       "      <th>17</th>\n",
       "      <td>0</td>\n",
       "      <td>3</td>\n",
       "      <td>2</td>\n",
       "      <td>2</td>\n",
       "      <td>1</td>\n",
       "      <td>1</td>\n",
       "      <td>0</td>\n",
       "      <td>3</td>\n",
       "      <td>2</td>\n",
       "      <td>3</td>\n",
       "      <td>...</td>\n",
       "      <td>1</td>\n",
       "      <td>3</td>\n",
       "      <td>3</td>\n",
       "      <td>0</td>\n",
       "      <td>3</td>\n",
       "      <td>2</td>\n",
       "      <td>3</td>\n",
       "      <td>0</td>\n",
       "      <td>0</td>\n",
       "      <td>2</td>\n",
       "    </tr>\n",
       "    <tr>\n",
       "      <th>18</th>\n",
       "      <td>3</td>\n",
       "      <td>3</td>\n",
       "      <td>3</td>\n",
       "      <td>0</td>\n",
       "      <td>0</td>\n",
       "      <td>0</td>\n",
       "      <td>1</td>\n",
       "      <td>0</td>\n",
       "      <td>2</td>\n",
       "      <td>3</td>\n",
       "      <td>...</td>\n",
       "      <td>3</td>\n",
       "      <td>3</td>\n",
       "      <td>1</td>\n",
       "      <td>0</td>\n",
       "      <td>0</td>\n",
       "      <td>1</td>\n",
       "      <td>2</td>\n",
       "      <td>2</td>\n",
       "      <td>3</td>\n",
       "      <td>2</td>\n",
       "    </tr>\n",
       "    <tr>\n",
       "      <th>19</th>\n",
       "      <td>0</td>\n",
       "      <td>0</td>\n",
       "      <td>3</td>\n",
       "      <td>0</td>\n",
       "      <td>3</td>\n",
       "      <td>2</td>\n",
       "      <td>0</td>\n",
       "      <td>2</td>\n",
       "      <td>0</td>\n",
       "      <td>1</td>\n",
       "      <td>...</td>\n",
       "      <td>1</td>\n",
       "      <td>2</td>\n",
       "      <td>1</td>\n",
       "      <td>0</td>\n",
       "      <td>2</td>\n",
       "      <td>0</td>\n",
       "      <td>1</td>\n",
       "      <td>1</td>\n",
       "      <td>2</td>\n",
       "      <td>0</td>\n",
       "    </tr>\n",
       "  </tbody>\n",
       "</table>\n",
       "<p>20 rows × 215 columns</p>\n",
       "</div>"
      ],
      "text/plain": [
       "    AAPL  ABB  ABBV  ABT  ACN  ADBE  ADI  ADP  AEP  AFL  ...  VMW  VRTX  VZ  \\\n",
       "0      2    0     2    2    3     2    3    2    1    1  ...    0     0   3   \n",
       "1      3    3     2    2    2     0    2    0    1    2  ...    3     1   1   \n",
       "2      0    0     3    0    3     2    3    2    3    3  ...    0     0   1   \n",
       "3      0    0     0    0    2     3    3    0    0    1  ...    0     2   1   \n",
       "4      0    3     0    2    2     3    3    2    3    2  ...    1     2   1   \n",
       "5      0    3     2    0    3     3    3    2    1    3  ...    2     2   3   \n",
       "6      0    0     3    0    3     2    0    1    3    0  ...    1     2   2   \n",
       "7      1    0     1    0    3     3    3    3    2    3  ...    1     2   2   \n",
       "8      1    0     2    1    1     3    1    3    0    0  ...    3     1   0   \n",
       "9      2    3     1    0    1     2    0    1    3    0  ...    0     2   2   \n",
       "10     2    0     1    1    0     3    1    3    3    3  ...    3     1   3   \n",
       "11     2    0     3    0    3     2    3    3    3    0  ...    1     0   3   \n",
       "12     1    0     3    0    2     3    3    1    2    3  ...    2     2   0   \n",
       "13     3    0     1    0    2     3    2    1    0    1  ...    2     1   3   \n",
       "14     0    3     1    3    2     3    2    1    3    2  ...    2     3   2   \n",
       "15     3    3     2    3    1     0    3    3    0    3  ...    3     1   3   \n",
       "16     0    0     2    1    1     1    0    3    1    3  ...    2     2   3   \n",
       "17     0    3     2    2    1     1    0    3    2    3  ...    1     3   3   \n",
       "18     3    3     3    0    0     0    1    0    2    3  ...    3     3   1   \n",
       "19     0    0     3    0    3     2    0    2    0    1  ...    1     2   1   \n",
       "\n",
       "    WBA  WDAY  WFC  WM  WMT  XOM  ZTS  \n",
       "0     2     2    0   0    3    2    1  \n",
       "1     1     0    1   1    2    3    3  \n",
       "2     2     2    0   2    0    2    0  \n",
       "3     0     2    1   2    3    2    0  \n",
       "4     0     2    2   2    1    0    2  \n",
       "5     0     3    2   1    1    0    1  \n",
       "6     0     1    0   0    3    0    1  \n",
       "7     1     1    0   0    0    0    1  \n",
       "8     1     3    0   3    0    1    1  \n",
       "9     0     1    2   0    0    3    1  \n",
       "10    0     1    0   1    0    2    3  \n",
       "11    0     2    0   0    0    2    0  \n",
       "12    0     2    0   2    0    0    2  \n",
       "13    1     2    1   2    3    3    1  \n",
       "14    1     2    2   3    1    3    3  \n",
       "15    1     3    0   3    1    2    2  \n",
       "16    0     1    1   3    1    3    1  \n",
       "17    0     3    2   3    0    0    2  \n",
       "18    0     0    1   2    2    3    2  \n",
       "19    0     2    0   1    1    2    0  \n",
       "\n",
       "[20 rows x 215 columns]"
      ]
     },
     "execution_count": 7,
     "metadata": {},
     "output_type": "execute_result"
    }
   ],
   "source": [
    "train_state_table.head(20)"
   ]
  },
  {
   "cell_type": "code",
   "execution_count": 8,
   "metadata": {},
   "outputs": [
    {
     "name": "stderr",
     "output_type": "stream",
     "text": [
      "/usr/local/lib/python3.8/site-packages/ipykernel/ipkernel.py:287: DeprecationWarning: `should_run_async` will not call `transform_cell` automatically in the future. Please pass the result to `transformed_cell` argument and any exception that happen during thetransform in `preprocessing_exc_tuple` in IPython 7.17 and above.\n",
      "  and should_run_async(code)\n"
     ]
    },
    {
     "data": {
      "text/plain": [
       "False"
      ]
     },
     "execution_count": 8,
     "metadata": {},
     "output_type": "execute_result"
    }
   ],
   "source": [
    "train_state_table.isna().all().all()"
   ]
  },
  {
   "cell_type": "markdown",
   "metadata": {},
   "source": [
    "\n",
    "<h4 id=\"State-Decision-function-for-a-given-ticker-and-trained-HMM-state-table\">State Decision function for a given ticker and trained HMM state table<a class=\"anchor-link\" href=\"#State-Decision-function-for-a-given-ticker-and-trained-HMM-state-table\">¶</a></h4><p>$\\color{SpringGreen}{States}$ = $\\{s_{i}: i \\in \\{1,..,N\\}\\}$</p>\n",
    "<p>$\\color{Aqua}{Buy}$: $\\{s_{i}$: cumulative_log_return $(s_{i}) &gt; 1.1\\}$</p>\n",
    "<p>$\\color{Violet}{Sell}$: $\\{s_{i}$: cumulative_log_return $(s_{i}) \\leq 0.9\\}$</p>\n",
    "<p>$\\color{MediumPurple}{Hold}$: $\\{s_{i}$: cumulative_log_return$(s_{i}) \\leq 1.1$ and $&gt; 0.9\\}$</p>\n"
   ]
  },
  {
   "cell_type": "code",
   "execution_count": 9,
   "metadata": {},
   "outputs": [],
   "source": [
    "def state_decision(data, ticker, state_table, n_states):\n",
    "    logreturn = np.log(data['close'][ticker]) - np.log(data['close'][ticker].shift(1)).fillna(0).values\n",
    "    log_data = pd.DataFrame([logreturn.values, train_state_table[ticker].values]).T\n",
    "    state_returns = pd.DataFrame(logreturn)\n",
    "    for i in range(n_states):\n",
    "        state = (train_state_table[ticker] == i)\n",
    "        idx = np.append(0,state[:-1])\n",
    "        state_returns['state %d_return'%i] = logreturn.multiply(idx,axis = 0)\n",
    "    cumsum_df = np.exp(state_returns.cumsum())\n",
    "    cumsum_values = cumsum_df.tail(1).values.tolist()[0]\n",
    "#     print(cumsum_values)\n",
    "    buy = [i for i,val in enumerate(cumsum_values) if val > 1.1]\n",
    "    sell = [i for i,val in enumerate(cumsum_values) if val <= 0.9]\n",
    "    hold = [i for i,val in enumerate(cumsum_values) if val <= 1.1 and val > 0.9]\n",
    "    decisions = state_table[ticker].apply(lambda x: 'buy' if x in buy else 'sell' if x in sell else 'hold')\n",
    "#     print(\"Buy:{}\".format(buy))\n",
    "#     print(\"Sell:{}\".format(sell))\n",
    "#     print(\"Hold:{}\".format(hold))\n",
    "    return decisions, buy"
   ]
  },
  {
   "cell_type": "markdown",
   "metadata": {},
   "source": [
    "\n",
    "<h4 id=\"Example-run-of-state_decision-function-on-'AMZN'-ticker\">Example run of state_decision function on 'AMZN' ticker<a class=\"anchor-link\" href=\"#Example-run-of-state_decision-function-on-'AMZN'-ticker\">¶</a></h4>\n"
   ]
  },
  {
   "cell_type": "code",
   "execution_count": 10,
   "metadata": {},
   "outputs": [
    {
     "data": {
      "text/plain": [
       "(0       buy\n",
       " 1      hold\n",
       " 2       buy\n",
       " 3       buy\n",
       " 4      hold\n",
       "        ... \n",
       " 247    hold\n",
       " 248     buy\n",
       " 249    hold\n",
       " 250    hold\n",
       " 251    hold\n",
       " Name: AMZN, Length: 252, dtype: object,\n",
       " [0, 4])"
      ]
     },
     "execution_count": 10,
     "metadata": {},
     "output_type": "execute_result"
    }
   ],
   "source": [
    "state_decision(data,'AMZN', train_state_table, 4)"
   ]
  },
  {
   "cell_type": "markdown",
   "metadata": {},
   "source": [
    "\n",
    "<h4 id=\"Convert-state-table-into-decision-table\">Convert state table into decision table<a class=\"anchor-link\" href=\"#Convert-state-table-into-decision-table\">¶</a></h4>\n"
   ]
  },
  {
   "cell_type": "code",
   "execution_count": 11,
   "metadata": {},
   "outputs": [
    {
     "name": "stderr",
     "output_type": "stream",
     "text": [
      "/usr/local/lib/python3.8/site-packages/ipykernel/ipkernel.py:287: DeprecationWarning: `should_run_async` will not call `transform_cell` automatically in the future. Please pass the result to `transformed_cell` argument and any exception that happen during thetransform in `preprocessing_exc_tuple` in IPython 7.17 and above.\n",
      "  and should_run_async(code)\n"
     ]
    }
   ],
   "source": [
    "def compute_filter(data, state_table, n_states):\n",
    "    f = pd.DataFrame()\n",
    "    for ticker in state_table.columns:\n",
    "        f[ticker],_ = state_decision(data, ticker, train_state_table, n_states)\n",
    "    return f"
   ]
  },
  {
   "cell_type": "code",
   "execution_count": 12,
   "metadata": {},
   "outputs": [],
   "source": [
    "f = compute_filter(data, train_state_table, 4)"
   ]
  },
  {
   "cell_type": "code",
   "execution_count": 13,
   "metadata": {},
   "outputs": [
    {
     "name": "stderr",
     "output_type": "stream",
     "text": [
      "/usr/local/lib/python3.8/site-packages/ipykernel/ipkernel.py:287: DeprecationWarning: `should_run_async` will not call `transform_cell` automatically in the future. Please pass the result to `transformed_cell` argument and any exception that happen during thetransform in `preprocessing_exc_tuple` in IPython 7.17 and above.\n",
      "  and should_run_async(code)\n"
     ]
    },
    {
     "data": {
      "text/html": [
       "<div>\n",
       "<style scoped>\n",
       "    .dataframe tbody tr th:only-of-type {\n",
       "        vertical-align: middle;\n",
       "    }\n",
       "\n",
       "    .dataframe tbody tr th {\n",
       "        vertical-align: top;\n",
       "    }\n",
       "\n",
       "    .dataframe thead th {\n",
       "        text-align: right;\n",
       "    }\n",
       "</style>\n",
       "<table border=\"1\" class=\"dataframe\">\n",
       "  <thead>\n",
       "    <tr style=\"text-align: right;\">\n",
       "      <th></th>\n",
       "      <th>AAPL</th>\n",
       "      <th>ABB</th>\n",
       "      <th>ABBV</th>\n",
       "      <th>ABT</th>\n",
       "      <th>ACN</th>\n",
       "      <th>ADBE</th>\n",
       "      <th>ADI</th>\n",
       "      <th>ADP</th>\n",
       "      <th>AEP</th>\n",
       "      <th>AFL</th>\n",
       "      <th>...</th>\n",
       "      <th>VMW</th>\n",
       "      <th>VRTX</th>\n",
       "      <th>VZ</th>\n",
       "      <th>WBA</th>\n",
       "      <th>WDAY</th>\n",
       "      <th>WFC</th>\n",
       "      <th>WM</th>\n",
       "      <th>WMT</th>\n",
       "      <th>XOM</th>\n",
       "      <th>ZTS</th>\n",
       "    </tr>\n",
       "  </thead>\n",
       "  <tbody>\n",
       "    <tr>\n",
       "      <th>0</th>\n",
       "      <td>buy</td>\n",
       "      <td>buy</td>\n",
       "      <td>hold</td>\n",
       "      <td>hold</td>\n",
       "      <td>hold</td>\n",
       "      <td>buy</td>\n",
       "      <td>buy</td>\n",
       "      <td>buy</td>\n",
       "      <td>hold</td>\n",
       "      <td>buy</td>\n",
       "      <td>...</td>\n",
       "      <td>buy</td>\n",
       "      <td>buy</td>\n",
       "      <td>hold</td>\n",
       "      <td>sell</td>\n",
       "      <td>hold</td>\n",
       "      <td>buy</td>\n",
       "      <td>buy</td>\n",
       "      <td>hold</td>\n",
       "      <td>sell</td>\n",
       "      <td>buy</td>\n",
       "    </tr>\n",
       "    <tr>\n",
       "      <th>1</th>\n",
       "      <td>hold</td>\n",
       "      <td>buy</td>\n",
       "      <td>hold</td>\n",
       "      <td>hold</td>\n",
       "      <td>buy</td>\n",
       "      <td>buy</td>\n",
       "      <td>buy</td>\n",
       "      <td>buy</td>\n",
       "      <td>hold</td>\n",
       "      <td>sell</td>\n",
       "      <td>...</td>\n",
       "      <td>buy</td>\n",
       "      <td>hold</td>\n",
       "      <td>sell</td>\n",
       "      <td>sell</td>\n",
       "      <td>buy</td>\n",
       "      <td>sell</td>\n",
       "      <td>hold</td>\n",
       "      <td>hold</td>\n",
       "      <td>hold</td>\n",
       "      <td>buy</td>\n",
       "    </tr>\n",
       "    <tr>\n",
       "      <th>2</th>\n",
       "      <td>buy</td>\n",
       "      <td>buy</td>\n",
       "      <td>hold</td>\n",
       "      <td>buy</td>\n",
       "      <td>hold</td>\n",
       "      <td>buy</td>\n",
       "      <td>buy</td>\n",
       "      <td>buy</td>\n",
       "      <td>buy</td>\n",
       "      <td>hold</td>\n",
       "      <td>...</td>\n",
       "      <td>buy</td>\n",
       "      <td>buy</td>\n",
       "      <td>sell</td>\n",
       "      <td>sell</td>\n",
       "      <td>hold</td>\n",
       "      <td>buy</td>\n",
       "      <td>buy</td>\n",
       "      <td>buy</td>\n",
       "      <td>sell</td>\n",
       "      <td>buy</td>\n",
       "    </tr>\n",
       "    <tr>\n",
       "      <th>3</th>\n",
       "      <td>buy</td>\n",
       "      <td>buy</td>\n",
       "      <td>buy</td>\n",
       "      <td>buy</td>\n",
       "      <td>buy</td>\n",
       "      <td>hold</td>\n",
       "      <td>buy</td>\n",
       "      <td>buy</td>\n",
       "      <td>buy</td>\n",
       "      <td>buy</td>\n",
       "      <td>...</td>\n",
       "      <td>buy</td>\n",
       "      <td>buy</td>\n",
       "      <td>sell</td>\n",
       "      <td>buy</td>\n",
       "      <td>hold</td>\n",
       "      <td>sell</td>\n",
       "      <td>buy</td>\n",
       "      <td>hold</td>\n",
       "      <td>sell</td>\n",
       "      <td>buy</td>\n",
       "    </tr>\n",
       "    <tr>\n",
       "      <th>4</th>\n",
       "      <td>buy</td>\n",
       "      <td>buy</td>\n",
       "      <td>buy</td>\n",
       "      <td>hold</td>\n",
       "      <td>buy</td>\n",
       "      <td>hold</td>\n",
       "      <td>buy</td>\n",
       "      <td>buy</td>\n",
       "      <td>buy</td>\n",
       "      <td>sell</td>\n",
       "      <td>...</td>\n",
       "      <td>sell</td>\n",
       "      <td>buy</td>\n",
       "      <td>sell</td>\n",
       "      <td>buy</td>\n",
       "      <td>hold</td>\n",
       "      <td>buy</td>\n",
       "      <td>buy</td>\n",
       "      <td>buy</td>\n",
       "      <td>buy</td>\n",
       "      <td>hold</td>\n",
       "    </tr>\n",
       "    <tr>\n",
       "      <th>...</th>\n",
       "      <td>...</td>\n",
       "      <td>...</td>\n",
       "      <td>...</td>\n",
       "      <td>...</td>\n",
       "      <td>...</td>\n",
       "      <td>...</td>\n",
       "      <td>...</td>\n",
       "      <td>...</td>\n",
       "      <td>...</td>\n",
       "      <td>...</td>\n",
       "      <td>...</td>\n",
       "      <td>...</td>\n",
       "      <td>...</td>\n",
       "      <td>...</td>\n",
       "      <td>...</td>\n",
       "      <td>...</td>\n",
       "      <td>...</td>\n",
       "      <td>...</td>\n",
       "      <td>...</td>\n",
       "      <td>...</td>\n",
       "      <td>...</td>\n",
       "    </tr>\n",
       "    <tr>\n",
       "      <th>247</th>\n",
       "      <td>buy</td>\n",
       "      <td>hold</td>\n",
       "      <td>sell</td>\n",
       "      <td>buy</td>\n",
       "      <td>buy</td>\n",
       "      <td>buy</td>\n",
       "      <td>hold</td>\n",
       "      <td>hold</td>\n",
       "      <td>hold</td>\n",
       "      <td>buy</td>\n",
       "      <td>...</td>\n",
       "      <td>sell</td>\n",
       "      <td>hold</td>\n",
       "      <td>buy</td>\n",
       "      <td>buy</td>\n",
       "      <td>sell</td>\n",
       "      <td>sell</td>\n",
       "      <td>hold</td>\n",
       "      <td>buy</td>\n",
       "      <td>buy</td>\n",
       "      <td>buy</td>\n",
       "    </tr>\n",
       "    <tr>\n",
       "      <th>248</th>\n",
       "      <td>buy</td>\n",
       "      <td>hold</td>\n",
       "      <td>sell</td>\n",
       "      <td>hold</td>\n",
       "      <td>buy</td>\n",
       "      <td>buy</td>\n",
       "      <td>hold</td>\n",
       "      <td>hold</td>\n",
       "      <td>hold</td>\n",
       "      <td>buy</td>\n",
       "      <td>...</td>\n",
       "      <td>sell</td>\n",
       "      <td>buy</td>\n",
       "      <td>buy</td>\n",
       "      <td>buy</td>\n",
       "      <td>sell</td>\n",
       "      <td>buy</td>\n",
       "      <td>hold</td>\n",
       "      <td>buy</td>\n",
       "      <td>hold</td>\n",
       "      <td>buy</td>\n",
       "    </tr>\n",
       "    <tr>\n",
       "      <th>249</th>\n",
       "      <td>hold</td>\n",
       "      <td>hold</td>\n",
       "      <td>sell</td>\n",
       "      <td>hold</td>\n",
       "      <td>buy</td>\n",
       "      <td>buy</td>\n",
       "      <td>buy</td>\n",
       "      <td>hold</td>\n",
       "      <td>buy</td>\n",
       "      <td>hold</td>\n",
       "      <td>...</td>\n",
       "      <td>sell</td>\n",
       "      <td>buy</td>\n",
       "      <td>buy</td>\n",
       "      <td>buy</td>\n",
       "      <td>sell</td>\n",
       "      <td>sell</td>\n",
       "      <td>buy</td>\n",
       "      <td>buy</td>\n",
       "      <td>hold</td>\n",
       "      <td>buy</td>\n",
       "    </tr>\n",
       "    <tr>\n",
       "      <th>250</th>\n",
       "      <td>buy</td>\n",
       "      <td>hold</td>\n",
       "      <td>sell</td>\n",
       "      <td>hold</td>\n",
       "      <td>buy</td>\n",
       "      <td>buy</td>\n",
       "      <td>hold</td>\n",
       "      <td>hold</td>\n",
       "      <td>hold</td>\n",
       "      <td>buy</td>\n",
       "      <td>...</td>\n",
       "      <td>sell</td>\n",
       "      <td>hold</td>\n",
       "      <td>buy</td>\n",
       "      <td>sell</td>\n",
       "      <td>sell</td>\n",
       "      <td>sell</td>\n",
       "      <td>hold</td>\n",
       "      <td>hold</td>\n",
       "      <td>hold</td>\n",
       "      <td>buy</td>\n",
       "    </tr>\n",
       "    <tr>\n",
       "      <th>251</th>\n",
       "      <td>buy</td>\n",
       "      <td>hold</td>\n",
       "      <td>sell</td>\n",
       "      <td>hold</td>\n",
       "      <td>buy</td>\n",
       "      <td>buy</td>\n",
       "      <td>buy</td>\n",
       "      <td>hold</td>\n",
       "      <td>buy</td>\n",
       "      <td>buy</td>\n",
       "      <td>...</td>\n",
       "      <td>sell</td>\n",
       "      <td>buy</td>\n",
       "      <td>buy</td>\n",
       "      <td>buy</td>\n",
       "      <td>buy</td>\n",
       "      <td>buy</td>\n",
       "      <td>buy</td>\n",
       "      <td>buy</td>\n",
       "      <td>hold</td>\n",
       "      <td>buy</td>\n",
       "    </tr>\n",
       "  </tbody>\n",
       "</table>\n",
       "<p>252 rows × 215 columns</p>\n",
       "</div>"
      ],
      "text/plain": [
       "     AAPL   ABB  ABBV   ABT   ACN  ADBE   ADI   ADP   AEP   AFL  ...   VMW  \\\n",
       "0     buy   buy  hold  hold  hold   buy   buy   buy  hold   buy  ...   buy   \n",
       "1    hold   buy  hold  hold   buy   buy   buy   buy  hold  sell  ...   buy   \n",
       "2     buy   buy  hold   buy  hold   buy   buy   buy   buy  hold  ...   buy   \n",
       "3     buy   buy   buy   buy   buy  hold   buy   buy   buy   buy  ...   buy   \n",
       "4     buy   buy   buy  hold   buy  hold   buy   buy   buy  sell  ...  sell   \n",
       "..    ...   ...   ...   ...   ...   ...   ...   ...   ...   ...  ...   ...   \n",
       "247   buy  hold  sell   buy   buy   buy  hold  hold  hold   buy  ...  sell   \n",
       "248   buy  hold  sell  hold   buy   buy  hold  hold  hold   buy  ...  sell   \n",
       "249  hold  hold  sell  hold   buy   buy   buy  hold   buy  hold  ...  sell   \n",
       "250   buy  hold  sell  hold   buy   buy  hold  hold  hold   buy  ...  sell   \n",
       "251   buy  hold  sell  hold   buy   buy   buy  hold   buy   buy  ...  sell   \n",
       "\n",
       "     VRTX    VZ   WBA  WDAY   WFC    WM   WMT   XOM   ZTS  \n",
       "0     buy  hold  sell  hold   buy   buy  hold  sell   buy  \n",
       "1    hold  sell  sell   buy  sell  hold  hold  hold   buy  \n",
       "2     buy  sell  sell  hold   buy   buy   buy  sell   buy  \n",
       "3     buy  sell   buy  hold  sell   buy  hold  sell   buy  \n",
       "4     buy  sell   buy  hold   buy   buy   buy   buy  hold  \n",
       "..    ...   ...   ...   ...   ...   ...   ...   ...   ...  \n",
       "247  hold   buy   buy  sell  sell  hold   buy   buy   buy  \n",
       "248   buy   buy   buy  sell   buy  hold   buy  hold   buy  \n",
       "249   buy   buy   buy  sell  sell   buy   buy  hold   buy  \n",
       "250  hold   buy  sell  sell  sell  hold  hold  hold   buy  \n",
       "251   buy   buy   buy   buy   buy   buy   buy  hold   buy  \n",
       "\n",
       "[252 rows x 215 columns]"
      ]
     },
     "execution_count": 13,
     "metadata": {},
     "output_type": "execute_result"
    }
   ],
   "source": [
    "f"
   ]
  },
  {
   "cell_type": "markdown",
   "metadata": {},
   "source": [
    "\n",
    "<h4 id=\"Filtering-of-stock-universe-for-MQU-strategy-using-trained-state-table\">Filtering of stock universe for MQU strategy using trained state table<a class=\"anchor-link\" href=\"#Filtering-of-stock-universe-for-MQU-strategy-using-trained-state-table\">¶</a></h4>\n"
   ]
  },
  {
   "cell_type": "markdown",
   "metadata": {},
   "source": [
    "\n",
    "<p>Split time data into chunks of equal size, these will be the training batches for the HMM's</p>\n",
    "<p>First batch: Trained HMM states (we already have this segment of data from above)</p>\n",
    "<p>Second batch: Construct filtered and unfiltered MQU portfolio weights</p>\n",
    "<p>Third batch: Evaluate strategies</p>\n"
   ]
  },
  {
   "cell_type": "code",
   "execution_count": 14,
   "metadata": {},
   "outputs": [
    {
     "name": "stderr",
     "output_type": "stream",
     "text": [
      "/usr/local/lib/python3.8/site-packages/ipykernel/ipkernel.py:287: DeprecationWarning: `should_run_async` will not call `transform_cell` automatically in the future. Please pass the result to `transformed_cell` argument and any exception that happen during thetransform in `preprocessing_exc_tuple` in IPython 7.17 and above.\n",
      "  and should_run_async(code)\n"
     ]
    }
   ],
   "source": [
    "def split_dataframe(df, chunk_size): \n",
    "    chunks = list()\n",
    "    num_chunks = len(df) // chunk_size + 1\n",
    "    for i in range(num_chunks):\n",
    "        chunks.append(df[i*chunk_size:(i+1)*chunk_size])\n",
    "    return chunks\n",
    "\n",
    "X = data['close'].pct_change().fillna(0)\n",
    "\n",
    "intervals = split_dataframe(X, chunk_size = 84)\n",
    "state_split_table = split_dataframe(f, chunk_size = 84)"
   ]
  },
  {
   "cell_type": "markdown",
   "metadata": {},
   "source": [
    "\n",
    "<p>intervals is a size 3 array of dataframe batches of daily returns calculated from close price</p>\n",
    "<p>state_split_table is a size 3 array of dataframe batches of trained state decisions for each ticker</p>\n"
   ]
  },
  {
   "cell_type": "markdown",
   "metadata": {},
   "source": [
    "\n",
    "<h3 id=\"Normalized-Maximum-Quadratic-Utility-(MQU)-Portfolio-using-L2-Regularizer:\">Normalized Maximum Quadratic Utility (MQU) Portfolio using L2 Regularizer:<a class=\"anchor-link\" href=\"#Normalized-Maximum-Quadratic-Utility-(MQU)-Portfolio-using-L2-Regularizer:\">¶</a></h3><h4 id=\"Normalizing-a-matrix-M:-$\\mu_{t}-=-\\frac{1}{N}\\sum_{1,..,N}x_{i,t}$-$\\to$-normalized(M)-=-M---$\\mu$\">Normalizing a matrix M: $\\mu_{t} = \\frac{1}{N}\\sum_{1,..,N}x_{i,t}$ $\\to$ normalized(M) = M - $\\mu$<a class=\"anchor-link\" href=\"#Normalizing-a-matrix-M:-$\\mu_{t}-=-\\frac{1}{N}\\sum_{1,..,N}x_{i,t}$-$\\to$-normalized(M)-=-M---$\\mu$\">¶</a></h4><h4 id=\"Convex-Optimization-Problem-for-long-only-MQU-Portfolio:\">Convex Optimization Problem for long-only MQU Portfolio:<a class=\"anchor-link\" href=\"#Convex-Optimization-Problem-for-long-only-MQU-Portfolio:\">¶</a></h4><h4 id=\"$\\max\\limits_{w}\\{\\color{Aqua}{w^{T}\\mu}---\\color{GreenYellow}{\\delta}\\color{Violet}{w^{T}\\Sigma-w}---\\color{MediumSpringGreen}{\\gamma}\\color{MediumPurple}{||w||_{2}}\\}$-subject-to-constraints-$\\color{LightCoral}{\\substack{\\sum_{i}w_{i}-=-1-\\\\-w_{i}-&gt;-0}},-i-\\in-\\{1,..,N\\}$-and-coefficients-$\\color{GreenYellow}{\\delta},-\\color{MediumSpringGreen}{\\gamma}$\">$\\max\\limits_{w}\\{\\color{Aqua}{w^{T}\\mu} - \\color{GreenYellow}{\\delta}\\color{Violet}{w^{T}\\Sigma w} - \\color{MediumSpringGreen}{\\gamma}\\color{MediumPurple}{||w||_{2}}\\}$ subject to constraints $\\color{LightCoral}{\\substack{\\sum_{i}w_{i} = 1 \\\\ w_{i} &gt; 0}}, i \\in \\{1,..,N\\}$ and coefficients $\\color{GreenYellow}{\\delta}, \\color{MediumSpringGreen}{\\gamma}$<a class=\"anchor-link\" href=\"#$\\max\\limits_{w}\\{\\color{Aqua}{w^{T}\\mu}---\\color{GreenYellow}{\\delta}\\color{Violet}{w^{T}\\Sigma-w}---\\color{MediumSpringGreen}{\\gamma}\\color{MediumPurple}{||w||_{2}}\\}$-subject-to-constraints-$\\color{LightCoral}{\\substack{\\sum_{i}w_{i}-=-1-\\\\-w_{i}-&gt;-0}},-i-\\in-\\{1,..,N\\}$-and-coefficients-$\\color{GreenYellow}{\\delta},-\\color{MediumSpringGreen}{\\gamma}$\">¶</a></h4><p>where Expected Return = $\\color{Aqua}{w^{T}\\mu}$, Expected Volatility = $\\color{Violet}{w^{T}\\Sigma w}$, L2 Norm of Weights = $\\color{MediumPurple}{||w||_{2}} $=$ \\color{MediumPurple}{\\sqrt{\\sum_{i}|w_{i}|^{2}}}$</p>\n",
    "<p>Risk Aversion Coefficient = $\\color{GreenYellow}{\\delta}$, L2 Penalization Coefficient = $\\color{MediumSpringGreen}{\\gamma}$</p>\n"
   ]
  },
  {
   "cell_type": "code",
   "execution_count": 15,
   "metadata": {},
   "outputs": [
    {
     "data": {
      "text/plain": [
       "[<matplotlib.lines.Line2D at 0x122352a60>]"
      ]
     },
     "execution_count": 15,
     "metadata": {},
     "output_type": "execute_result"
    },
    {
     "data": {
      "image/png": "[encoded data removed]",
      "text/plain": [
       "<Figure size 432x288 with 1 Axes>"
      ]
     },
     "metadata": {
      "needs_background": "light"
     },
     "output_type": "display_data"
    }
   ],
   "source": [
    "l2_grid = np.linspace(0.1,1.2,10)\n",
    "risk_grid = np.linspace(0.01,0.8,10)\n",
    "\n",
    "from pypfopt import objective_functions\n",
    "t = X\n",
    "mu = np.mean(t)\n",
    "normalized = t-mu\n",
    "Sigma = np.cov(normalized, rowvar=0)\n",
    "best_port = []\n",
    "max_ret = 0\n",
    "for g in l2_grid:\n",
    "    for d in risk_grid:\n",
    "        ef = EfficientFrontier(mu, Sigma)\n",
    "        ef.add_objective(objective_functions.L2_reg, gamma=g)\n",
    "        w = ef.max_quadratic_utility(risk_aversion=d)\n",
    "        # cleaned is a dict of weights instead of vector\n",
    "        cleaned = pd.Series(dict(ef.clean_weights()))\n",
    "        ret = (w*t).sum(axis=1)\n",
    "        cum_ret = (1+ret).cumprod() - 1\n",
    "        mean_ret = np.mean(ret)\n",
    "        if mean_ret > max_ret:\n",
    "            best_port = w\n",
    "            max_ret = mean_ret\n",
    "plt.plot(cleaned)"
   ]
  },
  {
   "cell_type": "markdown",
   "metadata": {},
   "source": [
    "\n",
    "<p>Symmetry check on covariance matrix to double check that the problem has been optimized correctly</p>\n"
   ]
  },
  {
   "cell_type": "code",
   "execution_count": 16,
   "metadata": {},
   "outputs": [
    {
     "data": {
      "text/plain": [
       "True"
      ]
     },
     "execution_count": 16,
     "metadata": {},
     "output_type": "execute_result"
    }
   ],
   "source": [
    "def check_symmetric(a, tol=1e-8):\n",
    "    return np.all(np.abs(a-a.T) < tol)\n",
    "check_symmetric(Sigma)"
   ]
  },
  {
   "cell_type": "markdown",
   "metadata": {},
   "source": [
    "\n",
    "<h4 id=\"Filter-stocks-using-previous-batch's-HMM-state-decisions\">Filter stocks using previous batch's HMM state decisions<a class=\"anchor-link\" href=\"#Filter-stocks-using-previous-batch's-HMM-state-decisions\">¶</a></h4>\n"
   ]
  },
  {
   "cell_type": "code",
   "execution_count": 29,
   "metadata": {},
   "outputs": [],
   "source": [
    "%%capture\n",
    "def filter_decisions(tickers):\n",
    "    chosen_stocks = []\n",
    "    temp = f.tail(28)\n",
    "    for c in temp.columns:\n",
    "        try:\n",
    "            thresh = (temp[c].value_counts(normalize=True)*100)['buy']\n",
    "            #print(thresh)\n",
    "            if thresh >= 90:\n",
    "                chosen_stocks.append(c)\n",
    "        except:\n",
    "            pass\n",
    "    return chosen_stocks\n",
    "\n",
    "filter_decisions(tickers)"
   ]
  },
  {
   "cell_type": "code",
   "execution_count": 30,
   "metadata": {},
   "outputs": [
    {
     "name": "stdout",
     "output_type": "stream",
     "text": [
      "['AAPL', 'ADBE', 'AGN', 'AIG', 'AMGN', 'APD', 'BRK.B', 'CAT', 'DG', 'FB', 'FIS', 'GM', 'GOOGL', 'GPN', 'HCA', 'HMC', 'ISRG', 'KMB', 'LIN', 'MDLZ', 'NVDA', 'PEP', 'PLD', 'RACE', 'RTN', 'SBUX', 'SHW', 'TSLA', 'V', 'VFC']\n"
     ]
    },
    {
     "data": {
      "text/plain": [
       "[<matplotlib.lines.Line2D at 0x1227da070>]"
      ]
     },
     "execution_count": 30,
     "metadata": {},
     "output_type": "execute_result"
    },
    {
     "data": {
      "image/png": "[encoded data removed]",
      "text/plain": [
       "<Figure size 864x504 with 1 Axes>"
      ]
     },
     "metadata": {
      "needs_background": "light"
     },
     "output_type": "display_data"
    }
   ],
   "source": [
    "chosen_stocks = filter_decisions(tickers)\n",
    "print(chosen_stocks)\n",
    "t2 = t[chosen_stocks]\n",
    "mu = np.mean(t2)\n",
    "de_meaned = t2-mu\n",
    "Sigma = np.cov(de_meaned, rowvar=0)\n",
    "best_filter_port = []\n",
    "max_filter_ret = 0\n",
    "for g in l2_grid:\n",
    "    for d in risk_grid:\n",
    "        ef = EfficientFrontier(mu, Sigma)\n",
    "        ef.add_objective(objective_functions.L2_reg, gamma=g)\n",
    "        w2 = ef.max_quadratic_utility(risk_aversion=d)\n",
    "        # cleaned is a dict of weights instead of vector\n",
    "        cleaned = pd.Series(dict(ef.clean_weights()))\n",
    "        ret = (w2*t2).sum(axis=1)\n",
    "        cum_ret_filter = (1+ret).cumprod() - 1\n",
    "        mean_ret_filter = np.mean(ret)\n",
    "        if mean_ret_filter > max_filter_ret:\n",
    "            best_filter_port = w\n",
    "            max_filter_ret = mean_ret_filter\n",
    "plt.plot(cleaned)"
   ]
  },
  {
   "cell_type": "markdown",
   "metadata": {},
   "source": [
    "\n",
    "<h3 id=\"Comparison-of-Filtered-vs.-Unfiltered-Maximum-Quadratic-Utility-Portfolio-on-Validation-Batch\">Comparison of Filtered vs. Unfiltered Maximum Quadratic Utility Portfolio on Validation Batch<a class=\"anchor-link\" href=\"#Comparison-of-Filtered-vs.-Unfiltered-Maximum-Quadratic-Utility-Portfolio-on-Validation-Batch\">¶</a></h3>\n"
   ]
  },
  {
   "cell_type": "markdown",
   "metadata": {},
   "source": [
    "\n",
    "<p>Use first chunk to evaluate stock filter, use second chunk to calculate filtered and unfiltered MV portfolio weights, use third chunk as validation set</p>\n"
   ]
  },
  {
   "cell_type": "code",
   "execution_count": 20,
   "metadata": {},
   "outputs": [
    {
     "name": "stderr",
     "output_type": "stream",
     "text": [
      "/Users/stevenstruglia/sif/sif/sifinfra/sif_utils.py:681: DeprecationWarning: execute_query is a deprecated function. sifinfra.sif_utils is a deprecated module and will be removed in a future version of sif. Please remove calls to this module and replace them with alternatives from siftools.data_utils\n",
      "  cols, response = execute_query(query, query_params)\n",
      "/Users/stevenstruglia/sif/sif/sifinfra/sif_utils.py:321: DeprecationWarning: execute_query is a deprecated function. sifinfra.sif_utils is a deprecated module and will be removed in a future version of sif. Please remove calls to this module and replace them with alternatives from siftools.data_utils\n",
      "  cols, response = execute_query(query, params=query_params)\n",
      "/Users/stevenstruglia/sif/sif/sifinfra/sif_utils.py:253: DeprecationWarning: execute_query is a deprecated function. sifinfra.sif_utils is a deprecated module and will be removed in a future version of sif. Please remove calls to this module and replace them with alternatives from siftools.data_utils\n",
      "  cols, response = execute_query(query, params=query_params)\n",
      "/Users/stevenstruglia/sif/sif/sifinfra/sif_utils.py:253: DeprecationWarning: execute_query is a deprecated function. sifinfra.sif_utils is a deprecated module and will be removed in a future version of sif. Please remove calls to this module and replace them with alternatives from siftools.data_utils\n",
      "  cols, response = execute_query(query, params=query_params)\n"
     ]
    },
    {
     "data": {
      "text/plain": [
       "{'APC', 'CELG', 'SHPG', 'TFCF', 'WP'}"
      ]
     },
     "execution_count": 20,
     "metadata": {},
     "output_type": "execute_result"
    }
   ],
   "source": [
    "new_start_date = datetime.datetime(2020, 1, 1)\n",
    "new_end_date = datetime.datetime(2021, 1, 1)\n",
    "top_n = 200\n",
    "new_tickers = sorted(su.get_universe_tickers(top_n, start_date, end_date))\n",
    "price_attrs = ['date','close', 'open', 'high', 'low']\n",
    "new_data = su.get_equity_data(tickers, new_start_date, new_end_date, price_attrs)\n",
    "\n",
    "new_X = new_data['close'].pct_change().fillna(0)\n",
    "\n",
    "set(X.columns) - set(new_X.columns)"
   ]
  },
  {
   "cell_type": "code",
   "execution_count": 21,
   "metadata": {},
   "outputs": [
    {
     "name": "stderr",
     "output_type": "stream",
     "text": [
      "/usr/local/lib/python3.8/site-packages/ipykernel/ipkernel.py:287: DeprecationWarning: `should_run_async` will not call `transform_cell` automatically in the future. Please pass the result to `transformed_cell` argument and any exception that happen during thetransform in `preprocessing_exc_tuple` in IPython 7.17 and above.\n",
      "  and should_run_async(code)\n"
     ]
    }
   ],
   "source": [
    "# We need to remove stocks that fell out of universe from MQU portfolios for previous batch\n",
    "def remove_tickers(drop_tickers):\n",
    "    for a in drop_tickers:\n",
    "        try:\n",
    "            del best_port[a]\n",
    "            del best_filter_port[a]\n",
    "        except:\n",
    "            pass\n",
    "        \n",
    "remove_tickers(['APC', 'CELG', 'SHPG', 'TFCF', 'WP'])"
   ]
  },
  {
   "cell_type": "code",
   "execution_count": 31,
   "metadata": {},
   "outputs": [],
   "source": [
    "unfiltered_MQU_returns = (best_port*new_X).sum(axis=1)\n",
    "filtered_MQU_returns = (cleaned*new_X[chosen_stocks]).sum(axis=1)"
   ]
  },
  {
   "cell_type": "markdown",
   "metadata": {},
   "source": [
    "\n",
    "<h4 id=\"Comparison-of-distribution-of-daily-returns\">Comparison of distribution of daily returns<a class=\"anchor-link\" href=\"#Comparison-of-distribution-of-daily-returns\">¶</a></h4>\n"
   ]
  },
  {
   "cell_type": "code",
   "execution_count": 32,
   "metadata": {},
   "outputs": [
    {
     "data": {
      "image/png": "[encoded data removed]",
      "text/plain": [
       "<Figure size 576x576 with 2 Axes>"
      ]
     },
     "metadata": {
      "needs_background": "light"
     },
     "output_type": "display_data"
    }
   ],
   "source": [
    "fig, axs = plt.subplots(2, sharex = True);\n",
    "fig.set_figheight(8)\n",
    "fig.set_figwidth(8)\n",
    "axs[0].title.set_text('Filtered MQU Return Histogram')\n",
    "axs[1].title.set_text('Unfiltered MQU Return Histogram')\n",
    "axs[0].hist(filtered_MQU_returns, bins = 100);\n",
    "axs[1].hist(unfiltered_MQU_returns, bins = 100);"
   ]
  },
  {
   "cell_type": "markdown",
   "metadata": {},
   "source": [
    "\n",
    "<p>Here we see that the distribution of daily returns in the filtered portfolio resembles the unfiltered fairly closely, though the central region is shifted to the right indicating a higher overall mean daily return as seen in the cell below.</p>\n"
   ]
  },
  {
   "cell_type": "markdown",
   "metadata": {},
   "source": [
    "\n",
    "<h4 id=\"Averance-Difference-in-Daily-Percent-Returns\">Averance Difference in Daily Percent Returns<a class=\"anchor-link\" href=\"#Averance-Difference-in-Daily-Percent-Returns\">¶</a></h4>\n"
   ]
  },
  {
   "cell_type": "code",
   "execution_count": 33,
   "metadata": {},
   "outputs": [
    {
     "data": {
      "text/plain": [
       "0.014562421454966518"
      ]
     },
     "execution_count": 33,
     "metadata": {},
     "output_type": "execute_result"
    }
   ],
   "source": [
    "mean_diff = (filtered_MQU_returns - unfiltered_MQU_returns).sum()/len(unfiltered_MQU_returns)*100\n",
    "mean_diff"
   ]
  },
  {
   "cell_type": "code",
   "execution_count": 34,
   "metadata": {},
   "outputs": [
    {
     "data": {
      "image/png": "[encoded data removed]",
      "text/plain": [
       "<Figure size 864x504 with 1 Axes>"
      ]
     },
     "metadata": {
      "needs_background": "light"
     },
     "output_type": "display_data"
    }
   ],
   "source": [
    "plt.hist((filtered_MQU_returns - unfiltered_MQU_returns), bins = 100);"
   ]
  },
  {
   "cell_type": "markdown",
   "metadata": {},
   "source": [
    "\n",
    "<h4 id=\"Comparison-of-Cumulative-Returns\">Comparison of Cumulative Returns<a class=\"anchor-link\" href=\"#Comparison-of-Cumulative-Returns\">¶</a></h4>\n"
   ]
  },
  {
   "cell_type": "code",
   "execution_count": 35,
   "metadata": {},
   "outputs": [
    {
     "data": {
      "text/plain": [
       "<matplotlib.legend.Legend at 0x124cf9e50>"
      ]
     },
     "execution_count": 35,
     "metadata": {},
     "output_type": "execute_result"
    },
    {
     "data": {
      "image/png": "[encoded data removed]",
      "text/plain": [
       "<Figure size 864x504 with 1 Axes>"
      ]
     },
     "metadata": {
      "needs_background": "light"
     },
     "output_type": "display_data"
    }
   ],
   "source": [
    "cumulative_u = (1+unfiltered_MQU_returns).cumprod() - 1\n",
    "cumulative_f = (1+filtered_MQU_returns).cumprod() - 1\n",
    "\n",
    "plt.rcParams[\"figure.figsize\"] = (12,7)\n",
    "plt.plot(cumulative_f, label = \"Filtered MQU Cumulative Return\")\n",
    "plt.plot(cumulative_u, label = \"Unfiltered MQU Cumulative Return\")\n",
    "plt.legend(loc='upper left')"
   ]
  },
  {
   "cell_type": "markdown",
   "metadata": {},
   "source": [
    "\n",
    "<p>We see on average a 3% increase in daily cumulative return over the 3 month validation set when filtering the portfolio construction using the trained HMM model. This filter can extend to other convex portfolio allocation methods that utilize risk and reward in the objective, as well as a general filter for stock universe's prior to evaluating alphas that thrive in high variance markets. In the future, I would like to use this research as a stepping stone to filter other methods as well as examine further which allocation methods benefit the most from this filtering with a K-fold validation done on a longer historical period. In addition, I would also like to look at optimal values through hyperparameter optimization and cross-validation for batch sizes to ensure the best recall and accuracy measurements for each portfolio.</p>\n"
   ]
  },
  {
   "cell_type": "code",
   "execution_count": null,
   "metadata": {},
   "outputs": [],
   "source": []
  }
 ],
 "metadata": {
  "kernelspec": {
   "display_name": "Python 3.8.5 64-bit",
   "language": "python",
   "name": "python38564bit888de32ea5f04a6a9dee8e0b0f1eb65d"
  },
  "language_info": {
   "codemirror_mode": {
    "name": "ipython",
    "version": 3
   },
   "file_extension": ".py",
   "mimetype": "text/x-python",
   "name": "python",
   "nbconvert_exporter": "python",
   "pygments_lexer": "ipython3",
   "version": "3.8.5"
  }
 },
 "nbformat": 4,
 "nbformat_minor": 4
}
